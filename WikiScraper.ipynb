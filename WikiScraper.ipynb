{
 "cells": [
  {
   "cell_type": "code",
   "execution_count": 1,
   "id": "9fc36d4e",
   "metadata": {},
   "outputs": [],
   "source": [
    "import requests\n",
    "from bs4 import BeautifulSoup\n"
   ]
  },
  {
   "cell_type": "code",
   "execution_count": 2,
   "id": "a666b590",
   "metadata": {},
   "outputs": [],
   "source": [
    "def create_soup(link):\n",
    "    res = requests.get(link)\n",
    "    soup = BeautifulSoup(res.text , 'html.parser')\n",
    "    \n",
    "    return soup"
   ]
  },
  {
   "cell_type": "code",
   "execution_count": 3,
   "id": "e0fa5de3",
   "metadata": {},
   "outputs": [],
   "source": [
    "def Link_Generator(title ):\n",
    "    title = title.replace(' ' , '+')\n",
    "    link = 'https://www.google.com/search?q=' + title + '+wikipedia'\n",
    "    \n",
    "    \n",
    "    \n",
    "    return link\n",
    "\n",
    "def search_in_google(soup):\n",
    "    for sp in soup.find_all('div'):\n",
    "        \n",
    "            try:\n",
    "                link = sp.find('a').get('href')\n",
    "                \n",
    "                if ('en.wikipedia.org' in link):\n",
    "                    break\n",
    "                    \n",
    "            except:\n",
    "                pass\n",
    "\n",
    "    link = link[7:].split('&')[0]\n",
    "    \n",
    "    return link\n"
   ]
  },
  {
   "cell_type": "code",
   "execution_count": 4,
   "id": "02b59030",
   "metadata": {},
   "outputs": [],
   "source": [
    "def headingOFArticle(soup):\n",
    "    heading = soup.find('h1').text\n",
    "    \n",
    "    return heading"
   ]
  },
  {
   "cell_type": "code",
   "execution_count": 5,
   "id": "4d2cf8a9",
   "metadata": {},
   "outputs": [],
   "source": [
    "def scraping_article(soup):\n",
    "    corpus = ''  # Empty string which stores all paragraphs in article\n",
    "\n",
    "    for p in soup.find_all('p'):\n",
    "        corpus += p.text\n",
    "        corpus += '\\n'  # for changing paragraphs\n",
    "        \n",
    "    corpus = corpus.strip()\n",
    "    \n",
    "    for i in range(500):\n",
    "        corpus = corpus.replace('['+str(i)+']','')\n",
    "\n",
    "    \n",
    "    return corpus"
   ]
  },
  {
   "cell_type": "code",
   "execution_count": 6,
   "id": "b8df4f1e",
   "metadata": {},
   "outputs": [],
   "source": [
    "def convert_TO_txt(corpus , soup ):\n",
    "    heading = headingOFArticle(soup)\n",
    "    fd = open(heading + '.txt' , 'w' , encoding = 'utf-8' )\n",
    "    fd.write(corpus)\n",
    "    fd.close()\n",
    "    "
   ]
  },
  {
   "cell_type": "code",
   "execution_count": 7,
   "id": "0d2b01e0",
   "metadata": {},
   "outputs": [],
   "source": [
    "def WikiScraper( title):\n",
    "    homepage_link = Link_Generator(title)\n",
    "    homepage_soup = create_soup(homepage_link)\n",
    "    link = search_in_google(homepage_soup)\n",
    "    soup = create_soup(link)\n",
    "    corpus = scraping_article(soup)\n",
    "    convert_TO_txt(corpus,soup)"
   ]
  },
  {
   "cell_type": "code",
   "execution_count": 10,
   "id": "28776f2f",
   "metadata": {},
   "outputs": [
    {
     "name": "stdout",
     "output_type": "stream",
     "text": [
      "Hello I am WikiScraper just enter the topic what you want to scrape from wikipedia : Dhoni\n"
     ]
    }
   ],
   "source": [
    "title = str(input(\"Hello I am WikiScraper just enter the topic what you want to scrape from wikipedia : \" ) )\n",
    "WikiScraper(title)"
   ]
  }
 ],
 "metadata": {
  "kernelspec": {
   "display_name": "Python 3 (ipykernel)",
   "language": "python",
   "name": "python3"
  },
  "language_info": {
   "codemirror_mode": {
    "name": "ipython",
    "version": 3
   },
   "file_extension": ".py",
   "mimetype": "text/x-python",
   "name": "python",
   "nbconvert_exporter": "python",
   "pygments_lexer": "ipython3",
   "version": "3.11.5"
  }
 },
 "nbformat": 4,
 "nbformat_minor": 5
}
